{
 "cells": [
  {
   "cell_type": "code",
   "execution_count": 1,
   "id": "selective-halloween",
   "metadata": {},
   "outputs": [],
   "source": [
    "import pandas as pd\n",
    "import numpy as np\n",
    "import matplotlib.pyplot as plt\n",
    "import seaborn as sns\n",
    "from scipy import stats\n",
    "import numpy.linalg as la\n",
    "\n",
    "from sklearn.decomposition import PCA\n",
    "from pca import pca\n",
    "from factor_analyzer import FactorAnalyzer\n",
    "\n",
    "from sklearn.cluster import KMeans\n",
    "\n",
    "from statsmodels.multivariate.manova import MANOVA"
   ]
  },
  {
   "cell_type": "markdown",
   "id": "local-diameter",
   "metadata": {},
   "source": [
    "# Carga de datos"
   ]
  },
  {
   "cell_type": "code",
   "execution_count": 2,
   "id": "hairy-finger",
   "metadata": {},
   "outputs": [
    {
     "data": {
      "text/html": [
       "<div>\n",
       "<style scoped>\n",
       "    .dataframe tbody tr th:only-of-type {\n",
       "        vertical-align: middle;\n",
       "    }\n",
       "\n",
       "    .dataframe tbody tr th {\n",
       "        vertical-align: top;\n",
       "    }\n",
       "\n",
       "    .dataframe thead th {\n",
       "        text-align: right;\n",
       "    }\n",
       "</style>\n",
       "<table border=\"1\" class=\"dataframe\">\n",
       "  <thead>\n",
       "    <tr style=\"text-align: right;\">\n",
       "      <th></th>\n",
       "      <th>products</th>\n",
       "      <th>citations</th>\n",
       "      <th>press</th>\n",
       "      <th>age</th>\n",
       "      <th>sex</th>\n",
       "      <th>time</th>\n",
       "      <th>level</th>\n",
       "      <th>category</th>\n",
       "      <th>citationsProducts</th>\n",
       "      <th>pressProducts</th>\n",
       "      <th>ageProducts</th>\n",
       "      <th>timeProducts</th>\n",
       "      <th>productsAge</th>\n",
       "      <th>productsTime</th>\n",
       "      <th>std_products</th>\n",
       "      <th>std_citations</th>\n",
       "      <th>std_press</th>\n",
       "    </tr>\n",
       "  </thead>\n",
       "  <tbody>\n",
       "    <tr>\n",
       "      <th>0</th>\n",
       "      <td>101</td>\n",
       "      <td>94</td>\n",
       "      <td>8</td>\n",
       "      <td>59</td>\n",
       "      <td>M</td>\n",
       "      <td>31</td>\n",
       "      <td>DOCTORADO</td>\n",
       "      <td>TITULAR</td>\n",
       "      <td>0.930693</td>\n",
       "      <td>0.079208</td>\n",
       "      <td>0.584158</td>\n",
       "      <td>0.306931</td>\n",
       "      <td>1.711864</td>\n",
       "      <td>3.258065</td>\n",
       "      <td>1.031687</td>\n",
       "      <td>0.754022</td>\n",
       "      <td>0.133997</td>\n",
       "    </tr>\n",
       "    <tr>\n",
       "      <th>1</th>\n",
       "      <td>23</td>\n",
       "      <td>6</td>\n",
       "      <td>2</td>\n",
       "      <td>74</td>\n",
       "      <td>M</td>\n",
       "      <td>49</td>\n",
       "      <td>DOCTORADO</td>\n",
       "      <td>TITULAR</td>\n",
       "      <td>0.260870</td>\n",
       "      <td>0.086957</td>\n",
       "      <td>3.217391</td>\n",
       "      <td>2.130435</td>\n",
       "      <td>0.310811</td>\n",
       "      <td>0.469388</td>\n",
       "      <td>-0.269999</td>\n",
       "      <td>-0.437214</td>\n",
       "      <td>-0.239795</td>\n",
       "    </tr>\n",
       "    <tr>\n",
       "      <th>2</th>\n",
       "      <td>35</td>\n",
       "      <td>32</td>\n",
       "      <td>2</td>\n",
       "      <td>49</td>\n",
       "      <td>M</td>\n",
       "      <td>12</td>\n",
       "      <td>DOCTORADO</td>\n",
       "      <td>ASOCIADO</td>\n",
       "      <td>0.914286</td>\n",
       "      <td>0.057143</td>\n",
       "      <td>1.400000</td>\n",
       "      <td>0.342857</td>\n",
       "      <td>0.714286</td>\n",
       "      <td>2.916667</td>\n",
       "      <td>-0.069739</td>\n",
       "      <td>-0.085258</td>\n",
       "      <td>-0.239795</td>\n",
       "    </tr>\n",
       "    <tr>\n",
       "      <th>3</th>\n",
       "      <td>5</td>\n",
       "      <td>1</td>\n",
       "      <td>9</td>\n",
       "      <td>55</td>\n",
       "      <td>F</td>\n",
       "      <td>26</td>\n",
       "      <td>DOCTORADO</td>\n",
       "      <td>ASOCIADO</td>\n",
       "      <td>0.200000</td>\n",
       "      <td>1.800000</td>\n",
       "      <td>11.000000</td>\n",
       "      <td>5.200000</td>\n",
       "      <td>0.090909</td>\n",
       "      <td>0.192308</td>\n",
       "      <td>-0.570388</td>\n",
       "      <td>-0.504898</td>\n",
       "      <td>0.196295</td>\n",
       "    </tr>\n",
       "    <tr>\n",
       "      <th>4</th>\n",
       "      <td>120</td>\n",
       "      <td>149</td>\n",
       "      <td>2</td>\n",
       "      <td>68</td>\n",
       "      <td>M</td>\n",
       "      <td>26</td>\n",
       "      <td>DOCTORADO</td>\n",
       "      <td>TITULAR</td>\n",
       "      <td>1.241667</td>\n",
       "      <td>0.016667</td>\n",
       "      <td>0.566667</td>\n",
       "      <td>0.216667</td>\n",
       "      <td>1.764706</td>\n",
       "      <td>4.615385</td>\n",
       "      <td>1.348765</td>\n",
       "      <td>1.498544</td>\n",
       "      <td>-0.239795</td>\n",
       "    </tr>\n",
       "    <tr>\n",
       "      <th>...</th>\n",
       "      <td>...</td>\n",
       "      <td>...</td>\n",
       "      <td>...</td>\n",
       "      <td>...</td>\n",
       "      <td>...</td>\n",
       "      <td>...</td>\n",
       "      <td>...</td>\n",
       "      <td>...</td>\n",
       "      <td>...</td>\n",
       "      <td>...</td>\n",
       "      <td>...</td>\n",
       "      <td>...</td>\n",
       "      <td>...</td>\n",
       "      <td>...</td>\n",
       "      <td>...</td>\n",
       "      <td>...</td>\n",
       "      <td>...</td>\n",
       "    </tr>\n",
       "    <tr>\n",
       "      <th>280</th>\n",
       "      <td>10</td>\n",
       "      <td>4</td>\n",
       "      <td>5</td>\n",
       "      <td>55</td>\n",
       "      <td>M</td>\n",
       "      <td>17</td>\n",
       "      <td>MAESTRIA</td>\n",
       "      <td>ASISTENTE</td>\n",
       "      <td>0.400000</td>\n",
       "      <td>0.500000</td>\n",
       "      <td>5.500000</td>\n",
       "      <td>1.700000</td>\n",
       "      <td>0.181818</td>\n",
       "      <td>0.588235</td>\n",
       "      <td>-0.486947</td>\n",
       "      <td>-0.464288</td>\n",
       "      <td>-0.052899</td>\n",
       "    </tr>\n",
       "    <tr>\n",
       "      <th>281</th>\n",
       "      <td>49</td>\n",
       "      <td>34</td>\n",
       "      <td>4</td>\n",
       "      <td>62</td>\n",
       "      <td>F</td>\n",
       "      <td>34</td>\n",
       "      <td>MAESTRIA</td>\n",
       "      <td>TITULAR</td>\n",
       "      <td>0.693878</td>\n",
       "      <td>0.081633</td>\n",
       "      <td>1.265306</td>\n",
       "      <td>0.693878</td>\n",
       "      <td>0.790323</td>\n",
       "      <td>1.441176</td>\n",
       "      <td>0.163896</td>\n",
       "      <td>-0.058184</td>\n",
       "      <td>-0.115198</td>\n",
       "    </tr>\n",
       "    <tr>\n",
       "      <th>282</th>\n",
       "      <td>3</td>\n",
       "      <td>0</td>\n",
       "      <td>1</td>\n",
       "      <td>46</td>\n",
       "      <td>M</td>\n",
       "      <td>19</td>\n",
       "      <td>DOCTORADO</td>\n",
       "      <td>ASOCIADO</td>\n",
       "      <td>0.000000</td>\n",
       "      <td>0.333333</td>\n",
       "      <td>15.333333</td>\n",
       "      <td>6.333333</td>\n",
       "      <td>0.065217</td>\n",
       "      <td>0.157895</td>\n",
       "      <td>-0.603764</td>\n",
       "      <td>-0.518435</td>\n",
       "      <td>-0.302094</td>\n",
       "    </tr>\n",
       "    <tr>\n",
       "      <th>283</th>\n",
       "      <td>17</td>\n",
       "      <td>9</td>\n",
       "      <td>1</td>\n",
       "      <td>52</td>\n",
       "      <td>F</td>\n",
       "      <td>13</td>\n",
       "      <td>DOCTORADO</td>\n",
       "      <td>ASOCIADO</td>\n",
       "      <td>0.529412</td>\n",
       "      <td>0.058824</td>\n",
       "      <td>3.058824</td>\n",
       "      <td>0.764706</td>\n",
       "      <td>0.326923</td>\n",
       "      <td>1.307692</td>\n",
       "      <td>-0.370129</td>\n",
       "      <td>-0.396604</td>\n",
       "      <td>-0.302094</td>\n",
       "    </tr>\n",
       "    <tr>\n",
       "      <th>284</th>\n",
       "      <td>76</td>\n",
       "      <td>53</td>\n",
       "      <td>11</td>\n",
       "      <td>48</td>\n",
       "      <td>M</td>\n",
       "      <td>13</td>\n",
       "      <td>DOCTORADO</td>\n",
       "      <td>ASOCIADO</td>\n",
       "      <td>0.697368</td>\n",
       "      <td>0.144737</td>\n",
       "      <td>0.631579</td>\n",
       "      <td>0.171053</td>\n",
       "      <td>1.583333</td>\n",
       "      <td>5.846154</td>\n",
       "      <td>0.614480</td>\n",
       "      <td>0.199014</td>\n",
       "      <td>0.320892</td>\n",
       "    </tr>\n",
       "  </tbody>\n",
       "</table>\n",
       "<p>285 rows × 17 columns</p>\n",
       "</div>"
      ],
      "text/plain": [
       "     products  citations  press  age sex  time      level   category  \\\n",
       "0         101         94      8   59   M    31  DOCTORADO    TITULAR   \n",
       "1          23          6      2   74   M    49  DOCTORADO    TITULAR   \n",
       "2          35         32      2   49   M    12  DOCTORADO   ASOCIADO   \n",
       "3           5          1      9   55   F    26  DOCTORADO   ASOCIADO   \n",
       "4         120        149      2   68   M    26  DOCTORADO    TITULAR   \n",
       "..        ...        ...    ...  ...  ..   ...        ...        ...   \n",
       "280        10          4      5   55   M    17   MAESTRIA  ASISTENTE   \n",
       "281        49         34      4   62   F    34   MAESTRIA    TITULAR   \n",
       "282         3          0      1   46   M    19  DOCTORADO   ASOCIADO   \n",
       "283        17          9      1   52   F    13  DOCTORADO   ASOCIADO   \n",
       "284        76         53     11   48   M    13  DOCTORADO   ASOCIADO   \n",
       "\n",
       "     citationsProducts  pressProducts  ageProducts  timeProducts  productsAge  \\\n",
       "0             0.930693       0.079208     0.584158      0.306931     1.711864   \n",
       "1             0.260870       0.086957     3.217391      2.130435     0.310811   \n",
       "2             0.914286       0.057143     1.400000      0.342857     0.714286   \n",
       "3             0.200000       1.800000    11.000000      5.200000     0.090909   \n",
       "4             1.241667       0.016667     0.566667      0.216667     1.764706   \n",
       "..                 ...            ...          ...           ...          ...   \n",
       "280           0.400000       0.500000     5.500000      1.700000     0.181818   \n",
       "281           0.693878       0.081633     1.265306      0.693878     0.790323   \n",
       "282           0.000000       0.333333    15.333333      6.333333     0.065217   \n",
       "283           0.529412       0.058824     3.058824      0.764706     0.326923   \n",
       "284           0.697368       0.144737     0.631579      0.171053     1.583333   \n",
       "\n",
       "     productsTime  std_products  std_citations  std_press  \n",
       "0        3.258065      1.031687       0.754022   0.133997  \n",
       "1        0.469388     -0.269999      -0.437214  -0.239795  \n",
       "2        2.916667     -0.069739      -0.085258  -0.239795  \n",
       "3        0.192308     -0.570388      -0.504898   0.196295  \n",
       "4        4.615385      1.348765       1.498544  -0.239795  \n",
       "..            ...           ...            ...        ...  \n",
       "280      0.588235     -0.486947      -0.464288  -0.052899  \n",
       "281      1.441176      0.163896      -0.058184  -0.115198  \n",
       "282      0.157895     -0.603764      -0.518435  -0.302094  \n",
       "283      1.307692     -0.370129      -0.396604  -0.302094  \n",
       "284      5.846154      0.614480       0.199014   0.320892  \n",
       "\n",
       "[285 rows x 17 columns]"
      ]
     },
     "execution_count": 2,
     "metadata": {},
     "output_type": "execute_result"
    }
   ],
   "source": [
    "data=pd.read_csv(\"../data/ms_authors.csv\",dtype={\"age\":int,\"time\":int})\n",
    "data[\"citationsProducts\"]=data[\"citations\"]/data[\"products\"]\n",
    "data[\"pressProducts\"]=data[\"press\"]/data[\"products\"]\n",
    "data[\"ageProducts\"]=data[\"age\"]/data[\"products\"]\n",
    "data[\"timeProducts\"]=data[\"time\"]/data[\"products\"]\n",
    "data[\"productsAge\"]=data[\"products\"]/data[\"age\"]\n",
    "data[\"productsTime\"]=data[\"products\"]/data[\"time\"]\n",
    "data[\"std_products\"]=(data[\"products\"]-np.mean(data[\"products\"]))/np.std(data[\"products\"])\n",
    "data[\"std_citations\"]=(data[\"citations\"]-np.mean(data[\"citations\"]))/np.std(data[\"citations\"])\n",
    "data[\"std_press\"]=(data[\"press\"]-np.mean(data[\"press\"]))/np.std(data[\"press\"])\n",
    "data"
   ]
  },
  {
   "cell_type": "code",
   "execution_count": 117,
   "id": "17737d52-30c5-4026-999a-28de8a6e82ee",
   "metadata": {},
   "outputs": [],
   "source": [
    "data.to_excel(\"investigadores_prensa_udea.xlsx\")"
   ]
  },
  {
   "cell_type": "markdown",
   "id": "activated-gates",
   "metadata": {},
   "source": [
    "### Descripción de los datos\n",
    "Los datos provienen de las dependencias puntaje y recurso humano de la universidad de antioquia. Con ellos realizamos un proceso de búsqueda de la aparición del investigador en medios de comunicación (prensa).\n",
    "Ignoramos los docentes que no tienen producción científica.\n",
    "\n",
    "Las variables se describen a continuación:\n",
    "* products (int): Cantidad de publicaciones\n",
    "* citations (int): Cantidad de veces que han sido citados todos los productos\n",
    "* citations/products (float): Cantidad de citas dividido la cantidad de productos\n",
    "* press (int): cantidad de artículos de prensa en los que ha aparecido el investigador\n",
    "* age (int): Edad del investigador\n",
    "* time (int): Años que el investigador ha estado en la universidad\n",
    "* sex (str): Sexo del investigador\n",
    "* level (str): Nivel académico\n",
    "* category (str): Categoría"
   ]
  },
  {
   "cell_type": "code",
   "execution_count": null,
   "id": "played-forty",
   "metadata": {},
   "outputs": [
    {
     "data": {
      "text/html": [
       "<div>\n",
       "<style scoped>\n",
       "    .dataframe tbody tr th:only-of-type {\n",
       "        vertical-align: middle;\n",
       "    }\n",
       "\n",
       "    .dataframe tbody tr th {\n",
       "        vertical-align: top;\n",
       "    }\n",
       "\n",
       "    .dataframe thead th {\n",
       "        text-align: right;\n",
       "    }\n",
       "</style>\n",
       "<table border=\"1\" class=\"dataframe\">\n",
       "  <thead>\n",
       "    <tr style=\"text-align: right;\">\n",
       "      <th></th>\n",
       "      <th>products</th>\n",
       "      <th>citations</th>\n",
       "      <th>press</th>\n",
       "      <th>age</th>\n",
       "      <th>time</th>\n",
       "      <th>citationsProducts</th>\n",
       "      <th>pressProducts</th>\n",
       "      <th>ageProducts</th>\n",
       "      <th>timeProducts</th>\n",
       "      <th>productsAge</th>\n",
       "      <th>productsTime</th>\n",
       "      <th>std_products</th>\n",
       "      <th>std_citations</th>\n",
       "      <th>std_press</th>\n",
       "    </tr>\n",
       "  </thead>\n",
       "  <tbody>\n",
       "    <tr>\n",
       "      <th>count</th>\n",
       "      <td>285.000000</td>\n",
       "      <td>285.000000</td>\n",
       "      <td>285.000000</td>\n",
       "      <td>285.000000</td>\n",
       "      <td>285.000000</td>\n",
       "      <td>285.000000</td>\n",
       "      <td>285.000000</td>\n",
       "      <td>285.000000</td>\n",
       "      <td>285.000000</td>\n",
       "      <td>285.000000</td>\n",
       "      <td>285.000000</td>\n",
       "      <td>2.850000e+02</td>\n",
       "      <td>2.850000e+02</td>\n",
       "      <td>2.850000e+02</td>\n",
       "    </tr>\n",
       "    <tr>\n",
       "      <th>mean</th>\n",
       "      <td>39.178947</td>\n",
       "      <td>38.298246</td>\n",
       "      <td>5.849123</td>\n",
       "      <td>51.761404</td>\n",
       "      <td>16.410526</td>\n",
       "      <td>0.756697</td>\n",
       "      <td>0.540853</td>\n",
       "      <td>7.306144</td>\n",
       "      <td>2.096338</td>\n",
       "      <td>0.748871</td>\n",
       "      <td>2.913251</td>\n",
       "      <td>3.739699e-17</td>\n",
       "      <td>-1.714029e-17</td>\n",
       "      <td>-1.246566e-17</td>\n",
       "    </tr>\n",
       "    <tr>\n",
       "      <th>std</th>\n",
       "      <td>60.027689</td>\n",
       "      <td>74.002799</td>\n",
       "      <td>16.079962</td>\n",
       "      <td>9.083295</td>\n",
       "      <td>9.243378</td>\n",
       "      <td>0.876958</td>\n",
       "      <td>1.907939</td>\n",
       "      <td>12.660636</td>\n",
       "      <td>4.627886</td>\n",
       "      <td>1.163572</td>\n",
       "      <td>5.194093</td>\n",
       "      <td>1.001759e+00</td>\n",
       "      <td>1.001759e+00</td>\n",
       "      <td>1.001759e+00</td>\n",
       "    </tr>\n",
       "    <tr>\n",
       "      <th>min</th>\n",
       "      <td>1.000000</td>\n",
       "      <td>0.000000</td>\n",
       "      <td>1.000000</td>\n",
       "      <td>32.000000</td>\n",
       "      <td>2.000000</td>\n",
       "      <td>0.000000</td>\n",
       "      <td>0.002079</td>\n",
       "      <td>0.082789</td>\n",
       "      <td>0.017429</td>\n",
       "      <td>0.013699</td>\n",
       "      <td>0.022727</td>\n",
       "      <td>-6.371410e-01</td>\n",
       "      <td>-5.184346e-01</td>\n",
       "      <td>-3.020935e-01</td>\n",
       "    </tr>\n",
       "    <tr>\n",
       "      <th>25%</th>\n",
       "      <td>7.000000</td>\n",
       "      <td>2.000000</td>\n",
       "      <td>1.000000</td>\n",
       "      <td>45.000000</td>\n",
       "      <td>10.000000</td>\n",
       "      <td>0.187500</td>\n",
       "      <td>0.050000</td>\n",
       "      <td>1.097561</td>\n",
       "      <td>0.306931</td>\n",
       "      <td>0.139535</td>\n",
       "      <td>0.640000</td>\n",
       "      <td>-5.370114e-01</td>\n",
       "      <td>-4.913611e-01</td>\n",
       "      <td>-3.020935e-01</td>\n",
       "    </tr>\n",
       "    <tr>\n",
       "      <th>50%</th>\n",
       "      <td>20.000000</td>\n",
       "      <td>9.000000</td>\n",
       "      <td>2.000000</td>\n",
       "      <td>51.000000</td>\n",
       "      <td>16.000000</td>\n",
       "      <td>0.500000</td>\n",
       "      <td>0.125000</td>\n",
       "      <td>2.678571</td>\n",
       "      <td>0.720000</td>\n",
       "      <td>0.373333</td>\n",
       "      <td>1.388889</td>\n",
       "      <td>-3.200637e-01</td>\n",
       "      <td>-3.966037e-01</td>\n",
       "      <td>-2.397949e-01</td>\n",
       "    </tr>\n",
       "    <tr>\n",
       "      <th>75%</th>\n",
       "      <td>49.000000</td>\n",
       "      <td>45.000000</td>\n",
       "      <td>4.000000</td>\n",
       "      <td>59.000000</td>\n",
       "      <td>21.000000</td>\n",
       "      <td>1.000000</td>\n",
       "      <td>0.363636</td>\n",
       "      <td>7.166667</td>\n",
       "      <td>1.562500</td>\n",
       "      <td>0.911111</td>\n",
       "      <td>3.258065</td>\n",
       "      <td>1.638965e-01</td>\n",
       "      <td>9.072012e-02</td>\n",
       "      <td>-1.151977e-01</td>\n",
       "    </tr>\n",
       "    <tr>\n",
       "      <th>max</th>\n",
       "      <td>481.000000</td>\n",
       "      <td>675.000000</td>\n",
       "      <td>199.000000</td>\n",
       "      <td>79.000000</td>\n",
       "      <td>50.000000</td>\n",
       "      <td>5.843750</td>\n",
       "      <td>28.428571</td>\n",
       "      <td>73.000000</td>\n",
       "      <td>44.000000</td>\n",
       "      <td>12.078947</td>\n",
       "      <td>57.375000</td>\n",
       "      <td>7.373234e+00</td>\n",
       "      <td>8.618886e+00</td>\n",
       "      <td>1.203303e+01</td>\n",
       "    </tr>\n",
       "  </tbody>\n",
       "</table>\n",
       "</div>"
      ],
      "text/plain": [
       "         products   citations       press         age        time  \\\n",
       "count  285.000000  285.000000  285.000000  285.000000  285.000000   \n",
       "mean    39.178947   38.298246    5.849123   51.761404   16.410526   \n",
       "std     60.027689   74.002799   16.079962    9.083295    9.243378   \n",
       "min      1.000000    0.000000    1.000000   32.000000    2.000000   \n",
       "25%      7.000000    2.000000    1.000000   45.000000   10.000000   \n",
       "50%     20.000000    9.000000    2.000000   51.000000   16.000000   \n",
       "75%     49.000000   45.000000    4.000000   59.000000   21.000000   \n",
       "max    481.000000  675.000000  199.000000   79.000000   50.000000   \n",
       "\n",
       "       citationsProducts  pressProducts  ageProducts  timeProducts  \\\n",
       "count         285.000000     285.000000   285.000000    285.000000   \n",
       "mean            0.756697       0.540853     7.306144      2.096338   \n",
       "std             0.876958       1.907939    12.660636      4.627886   \n",
       "min             0.000000       0.002079     0.082789      0.017429   \n",
       "25%             0.187500       0.050000     1.097561      0.306931   \n",
       "50%             0.500000       0.125000     2.678571      0.720000   \n",
       "75%             1.000000       0.363636     7.166667      1.562500   \n",
       "max             5.843750      28.428571    73.000000     44.000000   \n",
       "\n",
       "       productsAge  productsTime  std_products  std_citations     std_press  \n",
       "count   285.000000    285.000000  2.850000e+02   2.850000e+02  2.850000e+02  \n",
       "mean      0.748871      2.913251  3.739699e-17  -1.714029e-17 -1.246566e-17  \n",
       "std       1.163572      5.194093  1.001759e+00   1.001759e+00  1.001759e+00  \n",
       "min       0.013699      0.022727 -6.371410e-01  -5.184346e-01 -3.020935e-01  \n",
       "25%       0.139535      0.640000 -5.370114e-01  -4.913611e-01 -3.020935e-01  \n",
       "50%       0.373333      1.388889 -3.200637e-01  -3.966037e-01 -2.397949e-01  \n",
       "75%       0.911111      3.258065  1.638965e-01   9.072012e-02 -1.151977e-01  \n",
       "max      12.078947     57.375000  7.373234e+00   8.618886e+00  1.203303e+01  "
      ]
     },
     "execution_count": 3,
     "metadata": {},
     "output_type": "execute_result"
    }
   ],
   "source": [
    "data.describe()"
   ]
  },
  {
   "cell_type": "markdown",
   "id": "lucky-trace",
   "metadata": {},
   "source": [
    "# PCA"
   ]
  },
  {
   "cell_type": "code",
   "execution_count": 39,
   "id": "handled-vulnerability",
   "metadata": {},
   "outputs": [],
   "source": [
    "pca_data=data[[\"products\",\"citations\",\"press\",\"age\",\"time\",\"citationsProducts\"]]"
   ]
  },
  {
   "cell_type": "code",
   "execution_count": 40,
   "id": "f95d3cc5-4843-4454-9b8e-6922a3441a48",
   "metadata": {},
   "outputs": [
    {
     "data": {
      "text/plain": [
       "products             59.922285\n",
       "citations            73.872855\n",
       "press                16.051727\n",
       "age                   9.067346\n",
       "time                  9.227147\n",
       "citationsProducts     0.875418\n",
       "dtype: float64"
      ]
     },
     "execution_count": 40,
     "metadata": {},
     "output_type": "execute_result"
    }
   ],
   "source": [
    "np.std(pca_data)\n",
    "#calcular coeficiente de variabilidad\n",
    "#explorar variables relativas con productos principalmente"
   ]
  },
  {
   "cell_type": "code",
   "execution_count": 41,
   "id": "8117772f-9525-4cd4-bdb4-c7322b037980",
   "metadata": {},
   "outputs": [
    {
     "name": "stdout",
     "output_type": "stream",
     "text": [
      "[pca] >Processing dataframe..\n",
      "[pca] >The PCA reduction is performed on the [6] columns of the input dataframe.\n",
      "[pca] >Fit using PCA.\n",
      "[pca] >Compute loadings and PCs.\n",
      "[pca] >Compute explained variance.\n",
      "[pca] >Outlier detection using Hotelling T2 test with alpha=[0.05] and n_components=[3]\n",
      "[pca] >Outlier detection using SPE/DmodX with n_std=[2]\n"
     ]
    },
    {
     "data": {
      "image/png": "[encoded data removed]",
      "text/plain": [
       "<Figure size 1080x720 with 1 Axes>"
      ]
     },
     "metadata": {
      "needs_background": "light"
     },
     "output_type": "display_data"
    },
    {
     "name": "stdout",
     "output_type": "stream",
     "text": [
      "[pca] >Plot PC1 vs PC2 with loadings.\n"
     ]
    },
    {
     "data": {
      "text/plain": [
       "<Figure size 432x288 with 0 Axes>"
      ]
     },
     "metadata": {},
     "output_type": "display_data"
    },
    {
     "data": {
      "image/png": "[encoded data removed]",
      "text/plain": [
       "<Figure size 1080x720 with 1 Axes>"
      ]
     },
     "metadata": {
      "needs_background": "light"
     },
     "output_type": "display_data"
    }
   ],
   "source": [
    "model=pca(n_components=3)\n",
    "results=model.fit_transform(pca_data)\n",
    "#fig, ax = model.scatter()\n",
    "fig, ax = model.plot()\n",
    "fig, ax = model.biplot(n_feat=3,legend=False)"
   ]
  },
  {
   "cell_type": "code",
   "execution_count": 121,
   "id": "2a09cc5c-71dd-46d1-8a9f-9528223e9e49",
   "metadata": {},
   "outputs": [],
   "source": [
    "pca_data=data[[\"citationsProducts\",\"pressProducts\",\"productsAge\",\"productsTime\"]]"
   ]
  },
  {
   "cell_type": "code",
   "execution_count": 124,
   "id": "ce7ac5a0-c48c-4847-9d48-8e8471b9188a",
   "metadata": {},
   "outputs": [
    {
     "data": {
      "text/plain": [
       "citationsProducts    0.756697\n",
       "pressProducts        0.540853\n",
       "productsAge          0.748871\n",
       "productsTime         2.913251\n",
       "dtype: float64"
      ]
     },
     "execution_count": 124,
     "metadata": {},
     "output_type": "execute_result"
    }
   ],
   "source": [
    "np.mean(pca_data)"
   ]
  },
  {
   "cell_type": "code",
   "execution_count": 123,
   "id": "29bbbaac-0055-4124-ac51-82b8286e04ff",
   "metadata": {},
   "outputs": [
    {
     "data": {
      "text/plain": [
       "citationsProducts    0.875418\n",
       "pressProducts        1.904588\n",
       "productsAge          1.161529\n",
       "productsTime         5.184973\n",
       "dtype: float64"
      ]
     },
     "execution_count": 123,
     "metadata": {},
     "output_type": "execute_result"
    }
   ],
   "source": [
    "np.std(pca_data)"
   ]
  },
  {
   "cell_type": "code",
   "execution_count": 174,
   "id": "127c962d-9b7d-4279-a608-b0e360f7f3b5",
   "metadata": {},
   "outputs": [
    {
     "name": "stdout",
     "output_type": "stream",
     "text": [
      "[pca] >Processing dataframe..\n",
      "[pca] >The PCA reduction is performed on the [4] columns of the input dataframe.\n",
      "[pca] >Fit using PCA.\n",
      "[pca] >Compute loadings and PCs.\n",
      "[pca] >Compute explained variance.\n",
      "[pca] >Outlier detection using Hotelling T2 test with alpha=[0.05] and n_components=[2]\n",
      "[pca] >Outlier detection using SPE/DmodX with n_std=[2]\n"
     ]
    },
    {
     "data": {
      "image/png": "[encoded data removed]",
      "text/plain": [
       "<Figure size 1080x720 with 1 Axes>"
      ]
     },
     "metadata": {
      "needs_background": "light"
     },
     "output_type": "display_data"
    },
    {
     "name": "stdout",
     "output_type": "stream",
     "text": [
      "[pca] >Plot PC1 vs PC2 with loadings.\n"
     ]
    },
    {
     "data": {
      "text/plain": [
       "<Figure size 432x288 with 0 Axes>"
      ]
     },
     "metadata": {},
     "output_type": "display_data"
    },
    {
     "data": {
      "image/png": "[encoded data removed]",
      "text/plain": [
       "<Figure size 1080x720 with 1 Axes>"
      ]
     },
     "metadata": {
      "needs_background": "light"
     },
     "output_type": "display_data"
    }
   ],
   "source": [
    "model=pca(n_components=2)\n",
    "results=model.fit_transform(pca_data)\n",
    "#fig, ax = model.scatter()\n",
    "fig, ax = model.plot()\n",
    "fig, ax = model.biplot(n_feat=2,legend=False)"
   ]
  },
  {
   "cell_type": "code",
   "execution_count": 175,
   "id": "0f0ada46-40e1-433f-9f1a-64bf12559c90",
   "metadata": {},
   "outputs": [
    {
     "data": {
      "text/plain": [
       "{'loadings':      citationsProducts  pressProducts  productsAge  productsTime\n",
       " PC1           0.015691      -0.048575     0.190072      0.980442\n",
       " PC2          -0.054594       0.997003    -0.014008      0.052984,\n",
       " 'PC':           PC1       PC2\n",
       " 0    0.546262 -0.464980\n",
       " 1   -2.465062 -0.548817\n",
       " 2    0.022744 -0.490198\n",
       " 3   -2.862686  1.150816\n",
       " 4    1.894997 -0.473135\n",
       " ..        ...       ...\n",
       " 280 -2.390937 -0.136503\n",
       " 281 -1.414085 -0.532992\n",
       " 282 -2.833204 -0.302001\n",
       " 283 -1.634510 -0.547335\n",
       " 284  3.052460 -0.247981\n",
       " \n",
       " [285 rows x 2 columns],\n",
       " 'explained_var': array([0.85644471, 0.96617797]),\n",
       " 'variance_ratio': array([0.85644471, 0.10973325]),\n",
       " 'model': PCA(n_components=2),\n",
       " 'scaler': None,\n",
       " 'pcp': 0.9661779691821218,\n",
       " 'topfeat':     PC            feature   loading  type\n",
       " 0  PC1       productsTime  0.980442  best\n",
       " 1  PC2      pressProducts  0.997003  best\n",
       " 2  PC2  citationsProducts -0.054594  weak\n",
       " 3  PC1        productsAge  0.190072  weak,\n",
       " 'outliers':       y_proba   y_score  y_bool  y_bool_spe  y_score_spe\n",
       " 0    0.980160  0.427552   False       False     0.717363\n",
       " 1    0.829261  1.485194   False       False     2.525417\n",
       " 2    0.994570  0.216036   False       False     0.490726\n",
       " 3    0.731326  2.024100   False       False     3.085344\n",
       " 4    0.892128  1.113477   False       False     1.953169\n",
       " ..        ...       ...     ...         ...          ...\n",
       " 280  0.867760  1.262173   False       False     2.394830\n",
       " 281  0.927672  0.878164   False       False     1.511197\n",
       " 282  0.806619  1.612080   False       False     2.849254\n",
       " 283  0.909496  1.001978   False       False     1.723717\n",
       " 284  0.784318  1.735179   False       False     3.062516\n",
       " \n",
       " [285 rows x 5 columns],\n",
       " 'outliers_params': {'paramT2': (-3.739698609263685e-17, 15.761698690857584),\n",
       "  'paramSPE': (array([-8.41432187e-17,  3.19432590e-17]),\n",
       "   array([[28.04153218,  0.        ],\n",
       "          [ 0.        ,  3.59286308]]))}}"
      ]
     },
     "execution_count": 175,
     "metadata": {},
     "output_type": "execute_result"
    }
   ],
   "source": [
    "model.results"
   ]
  },
  {
   "cell_type": "code",
   "execution_count": 176,
   "id": "8ee41a88-ab37-4e8f-9e76-afc5e774b36d",
   "metadata": {},
   "outputs": [
    {
     "data": {
      "text/plain": [
       "0.05"
      ]
     },
     "execution_count": 176,
     "metadata": {},
     "output_type": "execute_result"
    }
   ],
   "source": [
    "model.alpha"
   ]
  },
  {
   "cell_type": "code",
   "execution_count": 177,
   "id": "74c23fa5-6b7f-4c4e-ae27-534d68d8f4a4",
   "metadata": {},
   "outputs": [
    {
     "data": {
      "text/html": [
       "<div>\n",
       "<style scoped>\n",
       "    .dataframe tbody tr th:only-of-type {\n",
       "        vertical-align: middle;\n",
       "    }\n",
       "\n",
       "    .dataframe tbody tr th {\n",
       "        vertical-align: top;\n",
       "    }\n",
       "\n",
       "    .dataframe thead th {\n",
       "        text-align: right;\n",
       "    }\n",
       "</style>\n",
       "<table border=\"1\" class=\"dataframe\">\n",
       "  <thead>\n",
       "    <tr style=\"text-align: right;\">\n",
       "      <th></th>\n",
       "      <th>PC1</th>\n",
       "      <th>PC2</th>\n",
       "    </tr>\n",
       "  </thead>\n",
       "  <tbody>\n",
       "    <tr>\n",
       "      <th>0</th>\n",
       "      <td>0.546262</td>\n",
       "      <td>-0.464980</td>\n",
       "    </tr>\n",
       "    <tr>\n",
       "      <th>1</th>\n",
       "      <td>-2.465062</td>\n",
       "      <td>-0.548817</td>\n",
       "    </tr>\n",
       "    <tr>\n",
       "      <th>2</th>\n",
       "      <td>0.022744</td>\n",
       "      <td>-0.490198</td>\n",
       "    </tr>\n",
       "    <tr>\n",
       "      <th>3</th>\n",
       "      <td>-2.862686</td>\n",
       "      <td>1.150816</td>\n",
       "    </tr>\n",
       "    <tr>\n",
       "      <th>4</th>\n",
       "      <td>1.894997</td>\n",
       "      <td>-0.473135</td>\n",
       "    </tr>\n",
       "    <tr>\n",
       "      <th>...</th>\n",
       "      <td>...</td>\n",
       "      <td>...</td>\n",
       "    </tr>\n",
       "    <tr>\n",
       "      <th>280</th>\n",
       "      <td>-2.390937</td>\n",
       "      <td>-0.136503</td>\n",
       "    </tr>\n",
       "    <tr>\n",
       "      <th>281</th>\n",
       "      <td>-1.414085</td>\n",
       "      <td>-0.532992</td>\n",
       "    </tr>\n",
       "    <tr>\n",
       "      <th>282</th>\n",
       "      <td>-2.833204</td>\n",
       "      <td>-0.302001</td>\n",
       "    </tr>\n",
       "    <tr>\n",
       "      <th>283</th>\n",
       "      <td>-1.634510</td>\n",
       "      <td>-0.547335</td>\n",
       "    </tr>\n",
       "    <tr>\n",
       "      <th>284</th>\n",
       "      <td>3.052460</td>\n",
       "      <td>-0.247981</td>\n",
       "    </tr>\n",
       "  </tbody>\n",
       "</table>\n",
       "<p>285 rows × 2 columns</p>\n",
       "</div>"
      ],
      "text/plain": [
       "          PC1       PC2\n",
       "0    0.546262 -0.464980\n",
       "1   -2.465062 -0.548817\n",
       "2    0.022744 -0.490198\n",
       "3   -2.862686  1.150816\n",
       "4    1.894997 -0.473135\n",
       "..        ...       ...\n",
       "280 -2.390937 -0.136503\n",
       "281 -1.414085 -0.532992\n",
       "282 -2.833204 -0.302001\n",
       "283 -1.634510 -0.547335\n",
       "284  3.052460 -0.247981\n",
       "\n",
       "[285 rows x 2 columns]"
      ]
     },
     "execution_count": 177,
     "metadata": {},
     "output_type": "execute_result"
    }
   ],
   "source": [
    "model.results[\"PC\"]"
   ]
  },
  {
   "cell_type": "markdown",
   "id": "f7a049ed-76a0-4fda-ac68-056e341b15ee",
   "metadata": {},
   "source": [
    "## Factor analisis"
   ]
  },
  {
   "cell_type": "code",
   "execution_count": 157,
   "id": "6a21d44a-7c11-479e-bddf-3b76726b8b92",
   "metadata": {},
   "outputs": [],
   "source": [
    "factor_data=data[[\"citationsProducts\",\"pressProducts\",\"productsAge\",\"productsTime\"]]\n",
    "#Se debe hacer con variables normalizadas"
   ]
  },
  {
   "cell_type": "code",
   "execution_count": 152,
   "id": "88fe8fba-5a69-4ddf-96a4-b47bcd2831a6",
   "metadata": {},
   "outputs": [
    {
     "name": "stderr",
     "output_type": "stream",
     "text": [
      "/usr/local/lib/python3.8/dist-packages/factor_analyzer/factor_analyzer.py:656: UserWarning: No rotation will be performed when the number of factors equals 1.\n",
      "  warnings.warn('No rotation will be performed when '\n"
     ]
    },
    {
     "data": {
      "text/plain": [
       "FactorAnalyzer(n_factors=1, rotation='varimax', rotation_kwargs={})"
      ]
     },
     "execution_count": 152,
     "metadata": {},
     "output_type": "execute_result"
    }
   ],
   "source": [
    "fa = FactorAnalyzer()\n",
    "fa.set_params(n_factors=1, rotation=\"varimax\")\n",
    "fa.fit(factor_data)"
   ]
  },
  {
   "cell_type": "code",
   "execution_count": 153,
   "id": "0dc062bf-1c24-47e9-94a2-41120b2ac852",
   "metadata": {},
   "outputs": [
    {
     "data": {
      "text/plain": [
       "(array([1.92656842, 1.03235135, 0.89702966, 0.14405057]),\n",
       " array([ 1.7568658 ,  0.09138388, -0.00548754, -0.091614  ]))"
      ]
     },
     "execution_count": 153,
     "metadata": {},
     "output_type": "execute_result"
    }
   ],
   "source": [
    "fa.get_eigenvalues()"
   ]
  },
  {
   "cell_type": "code",
   "execution_count": null,
   "id": "3818d52f-2f12-4e9e-8ecf-727f54a039f6",
   "metadata": {},
   "outputs": [],
   "source": [
    "#extraer varianza específica o la varianza no explicada por comunalidades"
   ]
  },
  {
   "cell_type": "code",
   "execution_count": 146,
   "id": "01803d14-47c1-41df-b4dd-7d75f050c51f",
   "metadata": {},
   "outputs": [
    {
     "data": {
      "text/plain": [
       "array([0.01922815, 0.02015551, 0.98756168, 0.72420281])"
      ]
     },
     "execution_count": 146,
     "metadata": {},
     "output_type": "execute_result"
    }
   ],
   "source": [
    "fa.get_communalities()"
   ]
  },
  {
   "cell_type": "code",
   "execution_count": 147,
   "id": "d5622c58-43c7-4fcb-8c1f-606c321f8fdd",
   "metadata": {},
   "outputs": [
    {
     "data": {
      "text/plain": [
       "0.9992240336217876"
      ]
     },
     "execution_count": 147,
     "metadata": {},
     "output_type": "execute_result"
    }
   ],
   "source": [
    "var=1-np.sum(fa.get_communalities()[:2]**2)\n",
    "var"
   ]
  },
  {
   "cell_type": "code",
   "execution_count": 136,
   "id": "e0aa0951-9ba7-4483-918b-1532608c8e24",
   "metadata": {},
   "outputs": [
    {
     "data": {
      "text/plain": [
       "FactorAnalyzer(rotation='varimax', rotation_kwargs={})"
      ]
     },
     "execution_count": 136,
     "metadata": {},
     "output_type": "execute_result"
    }
   ],
   "source": [
    "fa_varimax = FactorAnalyzer(rotation='varimax')\n",
    "fa_varimax.fit(factor_data)"
   ]
  },
  {
   "cell_type": "code",
   "execution_count": 137,
   "id": "99f06c6d-9f58-4294-aed3-7c105bdd1fd8",
   "metadata": {},
   "outputs": [
    {
     "data": {
      "text/plain": [
       "array([0.14197856, 0.11441606, 0.89088664, 0.87249303])"
      ]
     },
     "execution_count": 137,
     "metadata": {},
     "output_type": "execute_result"
    }
   ],
   "source": [
    "fa_varimax.get_communalities()"
   ]
  },
  {
   "cell_type": "code",
   "execution_count": 138,
   "id": "5b8a64ce-7913-4710-9489-22873eed8376",
   "metadata": {},
   "outputs": [
    {
     "data": {
      "text/plain": [
       "0.9075389946117891"
      ]
     },
     "execution_count": 138,
     "metadata": {},
     "output_type": "execute_result"
    }
   ],
   "source": [
    "var=1-np.sum(fa.get_communalities()[:2]**2)\n",
    "var"
   ]
  },
  {
   "cell_type": "markdown",
   "id": "abroad-account",
   "metadata": {},
   "source": [
    "# Clustering"
   ]
  },
  {
   "cell_type": "code",
   "execution_count": 161,
   "id": "0d9ee78a-77ee-4584-9760-8491fd38e609",
   "metadata": {},
   "outputs": [],
   "source": [
    "data_clustering=data[[\"citationsProducts\",\"pressProducts\",\"productsAge\",\"productsTime\"]]"
   ]
  },
  {
   "cell_type": "code",
   "execution_count": 162,
   "id": "009f5baa-d481-49de-8f39-f183ed03e16e",
   "metadata": {},
   "outputs": [],
   "source": [
    "kmeans=KMeans(n_clusters=2,max_iter=1000,tol=1e-6)\n",
    "kmeans.fit(data_clustering)\n",
    "kprediction=kmeans.predict(data_clustering)"
   ]
  },
  {
   "cell_type": "code",
   "execution_count": 163,
   "id": "731f7edd-d59b-4b61-86c4-e43e46043730",
   "metadata": {},
   "outputs": [
    {
     "data": {
      "text/plain": [
       "array([[7.56862932e-01, 5.50209172e-01, 6.49791217e-01, 2.36851752e+00],\n",
       "       [7.47428100e-01, 1.68897637e-02, 6.29732895e+00, 3.34183333e+01]])"
      ]
     },
     "execution_count": 163,
     "metadata": {},
     "output_type": "execute_result"
    }
   ],
   "source": [
    "centroids = kmeans.cluster_centers_\n",
    "centroids"
   ]
  },
  {
   "cell_type": "code",
   "execution_count": 164,
   "id": "a222d8ef-9d6a-4dd5-90bf-bf9d93b3a5f0",
   "metadata": {},
   "outputs": [
    {
     "data": {
      "text/plain": [
       "(array([0.75686293, 0.64979122]), array([0.7474281 , 6.29732895]))"
      ]
     },
     "execution_count": 164,
     "metadata": {},
     "output_type": "execute_result"
    }
   ],
   "source": [
    "centroids[0,[0,2]],centroids[1,[0,2]]"
   ]
  },
  {
   "cell_type": "code",
   "execution_count": 166,
   "id": "e1e54125-68eb-4502-8764-7917688b3fc7",
   "metadata": {},
   "outputs": [
    {
     "data": {
      "text/plain": [
       "<matplotlib.collections.PathCollection at 0x7fc940f70b50>"
      ]
     },
     "execution_count": 166,
     "metadata": {},
     "output_type": "execute_result"
    },
    {
     "data": {
      "image/png": "[encoded data removed]",
      "text/plain": [
       "<Figure size 432x288 with 1 Axes>"
      ]
     },
     "metadata": {
      "needs_background": "light"
     },
     "output_type": "display_data"
    }
   ],
   "source": [
    "plt.scatter(data[\"citationsProducts\"],data[\"productsAge\"], c = kprediction, cmap = 'cool')\n",
    "plt.scatter(centroids[0,[0,2]],centroids[1,[0,2]],c=\"black\",marker=\"x\")"
   ]
  },
  {
   "cell_type": "code",
   "execution_count": 169,
   "id": "69633445-f067-43f4-9218-ab87389c57d3",
   "metadata": {},
   "outputs": [
    {
     "data": {
      "text/plain": [
       "<matplotlib.collections.PathCollection at 0x7fc94121bbb0>"
      ]
     },
     "execution_count": 169,
     "metadata": {},
     "output_type": "execute_result"
    },
    {
     "data": {
      "image/png": "[encoded data removed]",
      "text/plain": [
       "<Figure size 432x288 with 1 Axes>"
      ]
     },
     "metadata": {
      "needs_background": "light"
     },
     "output_type": "display_data"
    }
   ],
   "source": [
    "plt.scatter(data[\"pressProducts\"],data[\"ageProducts\"], c = kprediction, cmap = 'cool')\n",
    "plt.scatter(centroids[0,[1,2]],centroids[1,[1,2]],c=\"black\",marker=\"x\")"
   ]
  },
  {
   "cell_type": "code",
   "execution_count": 171,
   "id": "9c926a9c-3fdb-48fc-80ec-40762dba0a7c",
   "metadata": {},
   "outputs": [
    {
     "data": {
      "text/plain": [
       "<matplotlib.collections.PathCollection at 0x7fc941164730>"
      ]
     },
     "execution_count": 171,
     "metadata": {},
     "output_type": "execute_result"
    },
    {
     "data": {
      "image/png": "[encoded data removed]",
      "text/plain": [
       "<Figure size 432x288 with 1 Axes>"
      ]
     },
     "metadata": {
      "needs_background": "light"
     },
     "output_type": "display_data"
    }
   ],
   "source": [
    "plt.scatter(data[\"citationsProducts\"],data[\"pressProducts\"], c = kprediction, cmap = 'cool')\n",
    "plt.scatter(centroids[0,[0,1]],centroids[1,[0,1]],c=\"black\",marker=\"x\")"
   ]
  },
  {
   "cell_type": "markdown",
   "id": "259057f7-55fe-4a89-9336-e0832a829fd8",
   "metadata": {},
   "source": [
    "### With results from PCA"
   ]
  },
  {
   "cell_type": "code",
   "execution_count": 184,
   "id": "e3b76f1e-76fc-41d5-8548-85327307cc1c",
   "metadata": {},
   "outputs": [],
   "source": [
    "data_clustering=model.results[\"PC\"][[\"PC1\",\"PC2\"]]\n",
    "kmeans=KMeans(n_clusters=3,max_iter=1000,tol=1e-6)\n",
    "kmeans.fit(data_clustering)\n",
    "kprediction=kmeans.predict(data_clustering)"
   ]
  },
  {
   "cell_type": "code",
   "execution_count": 185,
   "id": "0bacc29f-5f84-4eb3-befb-97204656c1ee",
   "metadata": {},
   "outputs": [
    {
     "data": {
      "text/plain": [
       "array([[ 4.40181432, -0.2864881 ],\n",
       "       [-1.6044624 ,  0.03876403],\n",
       "       [30.98838275,  1.01668505]])"
      ]
     },
     "execution_count": 185,
     "metadata": {},
     "output_type": "execute_result"
    }
   ],
   "source": [
    "centroids= kmeans.cluster_centers_\n",
    "centroids"
   ]
  },
  {
   "cell_type": "code",
   "execution_count": 186,
   "id": "d131aa61-5f95-40e4-b47c-09f88e771db5",
   "metadata": {},
   "outputs": [
    {
     "data": {
      "text/plain": [
       "<matplotlib.collections.PathCollection at 0x7fc94304dc10>"
      ]
     },
     "execution_count": 186,
     "metadata": {},
     "output_type": "execute_result"
    },
    {
     "data": {
      "image/png": "[encoded data removed]",
      "text/plain": [
       "<Figure size 432x288 with 1 Axes>"
      ]
     },
     "metadata": {
      "needs_background": "light"
     },
     "output_type": "display_data"
    }
   ],
   "source": [
    "plt.scatter(data_clustering[\"PC1\"],data_clustering[\"PC2\"], c = kprediction, cmap = 'cool')\n",
    "plt.scatter(centroids[0,:],centroids[1,:],c=\"black\")"
   ]
  },
  {
   "cell_type": "markdown",
   "id": "balanced-aviation",
   "metadata": {},
   "source": [
    "# MANOVA"
   ]
  },
  {
   "cell_type": "code",
   "execution_count": 6,
   "id": "248c35b3-47f5-47f7-9b6d-09a92f7258fe",
   "metadata": {},
   "outputs": [],
   "source": [
    "data_manova=data[[\"category\",\"level\",\"products\",\"press\",,\"citations\"]]"
   ]
  },
  {
   "cell_type": "code",
   "execution_count": 8,
   "id": "formal-stephen",
   "metadata": {},
   "outputs": [
    {
     "name": "stdout",
     "output_type": "stream",
     "text": [
      "                  Multivariate linear model\n",
      "=============================================================\n",
      "                                                             \n",
      "-------------------------------------------------------------\n",
      "       Intercept        Value  Num DF  Den DF  F Value Pr > F\n",
      "-------------------------------------------------------------\n",
      "          Wilks' lambda 0.9554 2.0000 276.0000  6.4353 0.0019\n",
      "         Pillai's trace 0.0446 2.0000 276.0000  6.4353 0.0019\n",
      " Hotelling-Lawley trace 0.0466 2.0000 276.0000  6.4353 0.0019\n",
      "    Roy's greatest root 0.0466 2.0000 276.0000  6.4353 0.0019\n",
      "-------------------------------------------------------------\n",
      "                                                             \n",
      "-------------------------------------------------------------\n",
      "        category        Value  Num DF  Den DF  F Value Pr > F\n",
      "-------------------------------------------------------------\n",
      "          Wilks' lambda 0.9216 6.0000 552.0000  3.8351 0.0009\n",
      "         Pillai's trace 0.0785 6.0000 554.0000  3.7710 0.0011\n",
      " Hotelling-Lawley trace 0.0851 6.0000 366.2276  3.9060 0.0009\n",
      "    Roy's greatest root 0.0845 3.0000 277.0000  7.8047 0.0001\n",
      "-------------------------------------------------------------\n",
      "                                                             \n",
      "-------------------------------------------------------------\n",
      "         level          Value  Num DF  Den DF  F Value Pr > F\n",
      "-------------------------------------------------------------\n",
      "          Wilks' lambda 0.9712 8.0000 552.0000  1.0154 0.4231\n",
      "         Pillai's trace 0.0289 8.0000 554.0000  1.0143 0.4239\n",
      " Hotelling-Lawley trace 0.0296 8.0000 391.9668  1.0179 0.4217\n",
      "    Roy's greatest root 0.0266 4.0000 277.0000  1.8436 0.1207\n",
      "=============================================================\n",
      "\n"
     ]
    }
   ],
   "source": [
    "manova = MANOVA.from_formula(\"products + citations ~ category + level\",data=data_manova)\n",
    "print(manova.mv_test())"
   ]
  },
  {
   "cell_type": "code",
   "execution_count": 68,
   "id": "f6fdbf86-f80f-44d2-8482-095657bd50fe",
   "metadata": {},
   "outputs": [
    {
     "data": {
      "text/plain": [
       "Index(['PC1', 'PC2', 'category'], dtype='object')"
      ]
     },
     "execution_count": 68,
     "metadata": {},
     "output_type": "execute_result"
    }
   ],
   "source": [
    "data_manova = model.results[\"PC\"][[\"PC1\",\"PC2\"]]\n",
    "data_manova=data_manova.join(data[\"category\"])\n",
    "data_manova.columns"
   ]
  },
  {
   "cell_type": "code",
   "execution_count": 69,
   "id": "6c0a55c3-21ba-476d-85f6-d80e237ebabc",
   "metadata": {},
   "outputs": [
    {
     "name": "stdout",
     "output_type": "stream",
     "text": [
      "                  Multivariate linear model\n",
      "=============================================================\n",
      "                                                             \n",
      "-------------------------------------------------------------\n",
      "       Intercept        Value  Num DF  Den DF  F Value Pr > F\n",
      "-------------------------------------------------------------\n",
      "          Wilks' lambda 0.9434 2.0000 280.0000  8.4023 0.0003\n",
      "         Pillai's trace 0.0566 2.0000 280.0000  8.4023 0.0003\n",
      " Hotelling-Lawley trace 0.0600 2.0000 280.0000  8.4023 0.0003\n",
      "    Roy's greatest root 0.0600 2.0000 280.0000  8.4023 0.0003\n",
      "-------------------------------------------------------------\n",
      "                                                             \n",
      "-------------------------------------------------------------\n",
      "        category        Value  Num DF  Den DF  F Value Pr > F\n",
      "-------------------------------------------------------------\n",
      "          Wilks' lambda 0.8343 6.0000 560.0000  8.8460 0.0000\n",
      "         Pillai's trace 0.1664 6.0000 562.0000  8.5031 0.0000\n",
      " Hotelling-Lawley trace 0.1976 6.0000 371.5609  9.2042 0.0000\n",
      "    Roy's greatest root 0.1926 3.0000 281.0000 18.0413 0.0000\n",
      "=============================================================\n",
      "\n"
     ]
    }
   ],
   "source": [
    "manova = MANOVA.from_formula(\"PC1 + PC2 ~ category\",data=data_manova)\n",
    "print(manova.mv_test())"
   ]
  },
  {
   "cell_type": "code",
   "execution_count": null,
   "id": "71e035fc-58c1-4fb5-a19c-ef4ac05aec05",
   "metadata": {},
   "outputs": [],
   "source": []
  }
 ],
 "metadata": {
  "kernelspec": {
   "display_name": "Python 3 (ipykernel)",
   "language": "python",
   "name": "python3"
  },
  "language_info": {
   "codemirror_mode": {
    "name": "ipython",
    "version": 3
   },
   "file_extension": ".py",
   "mimetype": "text/x-python",
   "name": "python",
   "nbconvert_exporter": "python",
   "pygments_lexer": "ipython3",
   "version": "3.8.10"
  }
 },
 "nbformat": 4,
 "nbformat_minor": 5
}
